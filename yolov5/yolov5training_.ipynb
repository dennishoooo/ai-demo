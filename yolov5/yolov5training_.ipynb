{
  "nbformat": 4,
  "nbformat_minor": 0,
  "metadata": {
    "colab": {
      "name": "yolov5training .ipynb",
      "provenance": [],
      "collapsed_sections": []
    },
    "kernelspec": {
      "name": "python3",
      "display_name": "Python 3"
    },
    "language_info": {
      "name": "python"
    },
    "accelerator": "GPU"
  },
  "cells": [
    {
      "cell_type": "markdown",
      "source": [
        "## training yolov5 in colab with your dataset\n",
        "\n",
        "Labeling site: https://www.makesense.ai/  \n",
        "Remember to active the GPU setting before training otherwise it will takes a long period to train!!\n"
      ],
      "metadata": {
        "id": "n1gck8pQQkJM"
      }
    },
    {
      "cell_type": "markdown",
      "source": [
        "#### git clone the yolov5 utilis"
      ],
      "metadata": {
        "id": "bx-W-ApISvuw"
      }
    },
    {
      "cell_type": "code",
      "execution_count": null,
      "metadata": {
        "id": "VjGBqkR_QidK"
      },
      "outputs": [],
      "source": [
        "!git clone https://github.com/ultralytics/yolov5  # clone\n",
        "%cd yolov5\n",
        "%pip install -qr requirements.txt  # install"
      ]
    },
    {
      "cell_type": "markdown",
      "source": [
        "#### import yolov5 and torch"
      ],
      "metadata": {
        "id": "Gh03-yIQS_qW"
      }
    },
    {
      "cell_type": "code",
      "source": [
        "import torch\n",
        "from yolov5 import utils\n",
        "display = utils.notebook_init()  # checks"
      ],
      "metadata": {
        "colab": {
          "base_uri": "https://localhost:8080/"
        },
        "id": "EX-xbWXRQrKl",
        "outputId": "2301d763-cbae-4e5e-91b2-8be32b6c9ca8"
      },
      "execution_count": 2,
      "outputs": [
        {
          "output_type": "stream",
          "name": "stderr",
          "text": [
            "YOLOv5 🚀 v6.1-244-g47233e1 Python-3.7.13 torch-1.11.0+cu113 CPU\n"
          ]
        },
        {
          "output_type": "stream",
          "name": "stdout",
          "text": [
            "Setup complete ✅ (2 CPUs, 12.7 GB RAM, 38.4/107.7 GB disk)\n"
          ]
        }
      ]
    },
    {
      "cell_type": "markdown",
      "source": [
        "#### upzip the dataset from your google driver to current dir\n",
        "\n",
        "See below for training dataset requirement"
      ],
      "metadata": {
        "id": "2F5q7ELeTDxA"
      }
    },
    {
      "cell_type": "code",
      "source": [
        "#unzip <original_data_path> -d <saved_path> \n",
        "!unzip /content/drive/MyDrive/yoloUseEEv2.zip -d /content"
      ],
      "metadata": {
        "id": "Ildwy4F0Q3IF"
      },
      "execution_count": null,
      "outputs": []
    },
    {
      "cell_type": "markdown",
      "source": [
        "## Your zipped dataset should be like this\n",
        "```\n",
        ".\n",
        "└── File/\n",
        "    ├── images/\n",
        "    │   ├── train/\n",
        "    │   │   ├── someTrainingImg0.jpg\n",
        "    │   │   ├── someTrainingImg1.jpg\n",
        "    │   │   └── ...\n",
        "    │   └── val/\n",
        "    │       ├── someValidationsImg0.jpg\n",
        "    │       ├── someValidationsImg1.jpg\n",
        "    │       └── ...\n",
        "    ├── labels/\n",
        "    │   ├── train/\n",
        "    │   │   ├── someTrainingImg0.txt\n",
        "    │   │   ├── someTrainingImg1.txt\n",
        "    │   │   └── ...\n",
        "    │   └── val/\n",
        "    │       ├── someValidationsImg0.txt\n",
        "    │       ├── someValidationsImg1.txt\n",
        "    │       └── ...\n",
        "    └── flow.ymal\n",
        "```"
      ],
      "metadata": {
        "id": "93G5n1T3Q-5N"
      }
    },
    {
      "cell_type": "markdown",
      "source": [
        "## inside the flow.yaml\n",
        "\n",
        "```\n",
        "## flow.ymal\n",
        "path: <zipped folder name> # dataset root dir  \n",
        "train: images/train/ # train images (relative to 'path')  \n",
        "val: images/val/ # val images (relative to 'path')\n",
        "test:  # (optional)\n",
        "\n",
        "## Classes  \n",
        "nc:   # number of classes  \n",
        "names: []  # class names  \n",
        "```\n",
        "e.g.\n",
        "```\n",
        "## flow.ymal\n",
        "path: ../yoloUseEEv2  # dataset root dir  \n",
        "train: images/train/  # train images (relative to 'path')  \n",
        "val: images/val/  # val images (relative to 'path')\n",
        "test:  # (optional)\n",
        "\n",
        "## Classes  \n",
        "nc: 1  # number of classes  \n",
        "names: ['bird']  # class names  \n",
        "```"
      ],
      "metadata": {
        "id": "3P3wsSR-SUxr"
      }
    },
    {
      "cell_type": "markdown",
      "source": [
        "#### training"
      ],
      "metadata": {
        "id": "foFrJROrTWG2"
      }
    },
    {
      "cell_type": "code",
      "source": [
        "!python train.py --img 640 --batch 16 --epochs 90 --data /content/yoloUseEEv2/flow.ymal --weights yolov5s.pt --cache"
      ],
      "metadata": {
        "id": "pKvjygZlQtaj"
      },
      "execution_count": null,
      "outputs": []
    },
    {
      "cell_type": "markdown",
      "source": [
        "#### save your training result"
      ],
      "metadata": {
        "id": "mNohjHikTnLS"
      }
    },
    {
      "cell_type": "code",
      "source": [
        "# !zip -r <saved_path> <original_data_path>\n",
        "!zip -r /content/yolov5Train4.zip /content/yolov5/runs/train/exp"
      ],
      "metadata": {
        "id": "axsoSXJ_QuR_"
      },
      "execution_count": null,
      "outputs": []
    },
    {
      "cell_type": "markdown",
      "source": [
        "#### predict images / video in python for future"
      ],
      "metadata": {
        "id": "Pdkgy7G9U6VR"
      }
    },
    {
      "cell_type": "code",
      "source": [
        "# See \n",
        "# https://github.com/ultralytics/yolov5/issues/36\n",
        "# https://github.com/ultralytics/yolov5/blob/master/detect.py\n",
        "# for more info\n",
        "\n",
        "# For cli detect.py, use your own pt is basically typing these line to run\n",
        "# Suggest to put your .pt to same root folder\n",
        "# python detect.py --weights yourModelFolder/yourModelBestPtPath.pt --source 0"
      ],
      "metadata": {
        "id": "rKHVKMKuU9LB"
      },
      "execution_count": 2,
      "outputs": []
    },
    {
      "cell_type": "markdown",
      "source": [
        "#### deploy yolov5 model in tfjs format and predict in client side"
      ],
      "metadata": {
        "id": "pONIntkDVaPi"
      }
    },
    {
      "cell_type": "code",
      "source": [
        "# See \n",
        "# https://github.com/r48n34/self-tf-Model-storage/blob/main/relatedFunction/cocoSSDyolov5/yolov5.js"
      ],
      "metadata": {
        "id": "C0JIyuEnVejK"
      },
      "execution_count": null,
      "outputs": []
    }
  ]
}