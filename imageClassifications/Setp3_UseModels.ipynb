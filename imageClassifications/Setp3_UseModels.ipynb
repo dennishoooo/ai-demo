{
  "nbformat": 4,
  "nbformat_minor": 0,
  "metadata": {
    "colab": {
      "name": "Setp3_UseModels.ipynb",
      "provenance": [],
      "collapsed_sections": []
    },
    "kernelspec": {
      "name": "python3",
      "display_name": "Python 3"
    },
    "language_info": {
      "name": "python"
    }
  },
  "cells": [
    {
      "cell_type": "markdown",
      "source": [
        "## Predictions\n",
        "Assume that you have trained you model in step 2"
      ],
      "metadata": {
        "id": "OAikJ6_4vJz9"
      }
    },
    {
      "cell_type": "code",
      "source": [
        "# Colab only, just a line to download a Helianthus annuus images, skip if no needed\n",
        "!wget \"https://i.imgur.com/8Aqr6jJ.jpeg\""
      ],
      "metadata": {
        "colab": {
          "base_uri": "https://localhost:8080/"
        },
        "id": "ZXQ2tQujwacg",
        "outputId": "174eb886-f047-4ef4-c1df-43a37df9672e"
      },
      "execution_count": 1,
      "outputs": [
        {
          "output_type": "stream",
          "name": "stdout",
          "text": [
            "--2022-06-05 16:50:55--  https://i.imgur.com/8Aqr6jJ.jpeg\n",
            "Resolving i.imgur.com (i.imgur.com)... 146.75.28.193\n",
            "Connecting to i.imgur.com (i.imgur.com)|146.75.28.193|:443... connected.\n",
            "HTTP request sent, awaiting response... 200 OK\n",
            "Length: 4496696 (4.3M) [image/jpeg]\n",
            "Saving to: ‘8Aqr6jJ.jpeg’\n",
            "\n",
            "8Aqr6jJ.jpeg        100%[===================>]   4.29M  --.-KB/s    in 0.1s    \n",
            "\n",
            "2022-06-05 16:50:56 (35.9 MB/s) - ‘8Aqr6jJ.jpeg’ saved [4496696/4496696]\n",
            "\n"
          ]
        }
      ]
    },
    {
      "cell_type": "code",
      "source": [
        "import tensorflow as tf\n",
        "import numpy as np"
      ],
      "metadata": {
        "id": "CqFm_BDFwKax"
      },
      "execution_count": 2,
      "outputs": []
    },
    {
      "cell_type": "code",
      "source": [
        "imgSize = 224\n",
        "class_names = ['Centaurea cyanus', 'Chrysanthemum segetum', 'Dipteracanthus repens', 'Echeveria glauca', 'Helianthus annuus', 'Melastoma malabathricum', 'Rhododendron moulmainense', 'Rosa laevigata', 'Solanum wrightii', 'Thunbergia erecta']\n",
        "\n",
        "model_dir = \"/content/myTrainingModel.h5\"\n",
        "predict_Model = tf.keras.models.load_model(model_dir)"
      ],
      "metadata": {
        "id": "yxNfHrtTu_CG"
      },
      "execution_count": 3,
      "outputs": []
    },
    {
      "cell_type": "code",
      "source": [
        "# your predict images path\n",
        "imgPath = \"/content/8Aqr6jJ.jpeg\""
      ],
      "metadata": {
        "id": "V0mraCdHvA7n"
      },
      "execution_count": 4,
      "outputs": []
    },
    {
      "cell_type": "code",
      "execution_count": 7,
      "metadata": {
        "colab": {
          "base_uri": "https://localhost:8080/"
        },
        "id": "1lg9etXZrGqj",
        "outputId": "dc6f9500-8a85-4f2e-e92d-16e7457a9b69"
      },
      "outputs": [
        {
          "output_type": "stream",
          "name": "stdout",
          "text": [
            "Rank1: Is that Helianthus annuus ? (79.76018190383911% possibility)\n",
            "Rank2: Is that Solanum wrightii ? (7.698067277669907% possibility)\n",
            "Rank3: Is that Centaurea cyanus ? (2.846868149936199% possibility)\n"
          ]
        }
      ],
      "source": [
        "#Load in images into cv2 array format\n",
        "image = tf.keras.preprocessing.image.load_img(\n",
        "  imgPath, color_mode=\"rgb\", target_size=(imgSize,imgSize)\n",
        ")\n",
        "\n",
        "# Make the images to array\n",
        "# Depends of the model images color input format, enable for your model\n",
        "input_arr = tf.keras.preprocessing.image.img_to_array(image) # [0,255]\n",
        "#input_arr =( tf.keras.preprocessing.image.img_to_array(image) / 127.5) - 1 # [-1,1]\n",
        "#input_arr =( tf.keras.preprocessing.image.img_to_array(image) / 255.0) # [0,1]\n",
        "\n",
        "# Change to np array for predictions\n",
        "input_arr = np.array([input_arr])\n",
        "\n",
        "# Predict result\n",
        "prediction = predict_Model.predict(input_arr)\n",
        "\n",
        "# Doing arg sork for obtain highest possibility ranking\n",
        "prediction_Argsort = np.argsort(prediction[0])[::-1]\n",
        "\n",
        "# Get the top 3 possibility result\n",
        "topK = 3\n",
        "for i in range(topK):\n",
        "  result_label = class_names[ prediction_Argsort[i] ]\n",
        "  result_poss = prediction[0][ prediction_Argsort[i] ] * 100\n",
        "\n",
        "  print(f\"Rank{i+1}: Is that {result_label} ? ({result_poss}% possibility)\")"
      ]
    }
  ]
}