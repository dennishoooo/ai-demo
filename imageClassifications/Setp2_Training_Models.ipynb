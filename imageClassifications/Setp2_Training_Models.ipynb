{
  "cells": [
    {
      "cell_type": "markdown",
      "metadata": {
        "id": "JMOudoTIMwRw"
      },
      "source": [
        "## Training you own models for predictions"
      ]
    },
    {
      "cell_type": "markdown",
      "metadata": {
        "id": "dD42klmjM0-s"
      },
      "source": [
        "## Import library"
      ]
    },
    {
      "cell_type": "code",
      "execution_count": 13,
      "metadata": {
        "id": "nxsFRskzMfbf"
      },
      "outputs": [],
      "source": [
        "import tensorflow as tf\n",
        "import matplotlib.pyplot as plt\n",
        "import numpy as np"
      ]
    },
    {
      "cell_type": "markdown",
      "metadata": {
        "id": "jbwb_HmTM-SN"
      },
      "source": [
        "From previous one, your dataset folder should be like this.\n",
        "```\n",
        ".\n",
        "└── Dataset/\n",
        "    ├── Dog/\n",
        "    │   ├── dogImg1.jpg\n",
        "    │   ├── dogImg1.jpg\n",
        "    │   └── ...\n",
        "    ├── Cat/\n",
        "    │   ├── catImg1.jpg\n",
        "    │   ├── catImg1.jpg\n",
        "    │   └── ...\n",
        "    ├── Bird/\n",
        "    │   ├── birdImg1.jpg\n",
        "    │   ├── birdImg1.jpg\n",
        "    │   └── ...\n",
        "    ├── Hamster/\n",
        "    │   ├── hamsterImg1.jpg\n",
        "    │   ├── hamsterImg1.jpg\n",
        "    │   └── ...\n",
        "    └── ...\\\n",
        "```"
      ]
    },
    {
      "cell_type": "markdown",
      "metadata": {
        "id": "9EDTniXDNOeX"
      },
      "source": [
        "## Demo dataset\n",
        "Use your own dataset if you are training your models.  \n",
        "Else just git clone this dataset for demo"
      ]
    },
    {
      "cell_type": "code",
      "execution_count": 14,
      "metadata": {
        "colab": {
          "base_uri": "https://localhost:8080/"
        },
        "id": "b70_KomqNOJM",
        "outputId": "d5676b02-57ac-4afc-8fbf-d307ee97c5d4"
      },
      "outputs": [
        {
          "name": "stdout",
          "output_type": "stream",
          "text": [
            "fatal: destination path 'flowers10' already exists and is not an empty directory.\n"
          ]
        }
      ],
      "source": [
        "!git clone https://github.com/reemo-dev/flowers10.git"
      ]
    },
    {
      "cell_type": "markdown",
      "metadata": {
        "id": "CX9rjmFvSNE_"
      },
      "source": [
        "## Import dataset \n",
        "Input to tensorflow dataset format by image_dataset_from_directory"
      ]
    },
    {
      "cell_type": "code",
      "execution_count": 15,
      "metadata": {
        "colab": {
          "base_uri": "https://localhost:8080/"
        },
        "id": "O2LIVkLbNFwx",
        "outputId": "2e643ddc-da37-4175-c895-7859a1a3e160"
      },
      "outputs": [
        {
          "name": "stdout",
          "output_type": "stream",
          "text": [
            "Found 1504 files belonging to 10 classes.\n",
            "Using 1053 files for training.\n",
            "Found 1504 files belonging to 10 classes.\n",
            "Using 451 files for validation.\n"
          ]
        }
      ],
      "source": [
        "train_data_dir = \"/content/flowers10/dataset\"\n",
        "\n",
        "# Higher = faster training but \"slightly\" lower accuracy\n",
        "# more info https://stats.stackexchange.com/questions/153531/what-is-batch-size-in-neural-network\n",
        "batch_size = 256 \n",
        "\n",
        "# model required size for images\n",
        "imgSize = 224 \n",
        "\n",
        "# 30%(0.3) for validation and 70%(0.7) for training\n",
        "splitNum = 0.3 \n",
        "\n",
        "# random seed for data shuffle\n",
        "dataSeed = 1337 \n",
        "\n",
        "train_ds = tf.keras.preprocessing.image_dataset_from_directory(\n",
        "  train_data_dir, seed=dataSeed, validation_split=splitNum, subset=\"training\",\n",
        "  image_size=(imgSize, imgSize), color_mode='rgb'\n",
        ")\n",
        "\n",
        "valid_ds = tf.keras.preprocessing.image_dataset_from_directory(\n",
        "  train_data_dir, seed=dataSeed, validation_split=splitNum, subset=\"validation\",\n",
        "  image_size=(imgSize, imgSize), color_mode='rgb'\n",
        ")"
      ]
    },
    {
      "cell_type": "markdown",
      "metadata": {
        "id": "Rmo65CPOShlv"
      },
      "source": [
        "## Get dataset labels array and classes number "
      ]
    },
    {
      "cell_type": "code",
      "execution_count": 16,
      "metadata": {
        "colab": {
          "base_uri": "https://localhost:8080/"
        },
        "id": "qYvukErhQ8Nt",
        "outputId": "2befa7d3-1151-4755-d0d5-530d4e5955c3"
      },
      "outputs": [
        {
          "name": "stdout",
          "output_type": "stream",
          "text": [
            "Total class number: 10\n",
            "All label: ['Centaurea cyanus', 'Chrysanthemum segetum', 'Dipteracanthus repens', 'Echeveria glauca', 'Helianthus annuus', 'Melastoma malabathricum', 'Rhododendron moulmainense', 'Rosa laevigata', 'Solanum wrightii', 'Thunbergia erecta']\n"
          ]
        }
      ],
      "source": [
        "classNum = len(train_ds.class_names)\n",
        "classArr = train_ds.class_names\n",
        "print(f\"Total class number: {classNum}\")\n",
        "print(f\"All label: {classArr}\")"
      ]
    },
    {
      "cell_type": "markdown",
      "metadata": {
        "id": "1DWNBsRWS_rv"
      },
      "source": [
        "## Define data augmentation layer\n",
        "See https://www.tensorflow.org/api_docs/python/tf/keras/layers for more layers setting"
      ]
    },
    {
      "cell_type": "code",
      "execution_count": 17,
      "metadata": {
        "id": "yKOYwu6WRqIs"
      },
      "outputs": [],
      "source": [
        "data_augmentation = tf.keras.Sequential(\n",
        "  [\n",
        "    tf.keras.layers.RandomFlip(\"horizontal_and_vertical\"),\n",
        "    tf.keras.layers.RandomRotation(0.1),\n",
        "    tf.keras.layers.RandomZoom(0.1),\n",
        "    tf.keras.layers.RandomContrast(0.1),\n",
        "  ]\n",
        ")"
      ]
    },
    {
      "cell_type": "markdown",
      "metadata": {
        "id": "pa2btAd7TBxh"
      },
      "source": [
        "## Expending training data images number and apply data augmentation"
      ]
    },
    {
      "cell_type": "code",
      "execution_count": 18,
      "metadata": {
        "id": "amB1rWzjRr3m"
      },
      "outputs": [],
      "source": [
        "# Expand your training dataset by expendRound numbers (Optional, set 0 for no additions)\n",
        "expendRound = 1\n",
        "temp_ds = train_ds\n",
        "for i in range(expendRound):\n",
        "    train_ds = train_ds.concatenate(temp_ds)\n",
        "\n",
        "# Apply data_augmentation and resize_and_rescale for training set\n",
        "train_ds = train_ds.map(lambda image,label:(data_augmentation(image),label))"
      ]
    },
    {
      "cell_type": "markdown",
      "metadata": {
        "id": "JHpAymoATFOY"
      },
      "source": [
        "## Define model from tensorflow pre-builded model\n",
        "This time we use EfficientNetV2B0  \n",
        "https://www.tensorflow.org/api_docs/python/tf/keras/applications/efficientnet_v2/EfficientNetV2B0  \n",
        "\n",
        "See https://www.tensorflow.org/api_docs/python/tf/keras/applications for more models"
      ]
    },
    {
      "cell_type": "code",
      "execution_count": 19,
      "metadata": {
        "id": "CpOBmjykRuz3"
      },
      "outputs": [],
      "source": [
        "base_model = tf.keras.applications.efficientnet_v2.EfficientNetV2B0(\n",
        "    input_shape=(imgSize,imgSize,3),\n",
        "    include_top=False,\n",
        "    weights='imagenet'\n",
        ")\n",
        "\n",
        "# turn to true for better accuracy but longer training time\n",
        "base_model.trainable = True \n",
        "\n",
        "# How many rounds to train\n",
        "epochsRound = 3\n",
        "\n",
        "# Learning rate \n",
        "base_learning_rate = 0.0001\n",
        "\n",
        "model = tf.keras.Sequential([\n",
        "  base_model,\n",
        "  tf.keras.layers.GlobalAveragePooling2D(),\n",
        "  tf.keras.layers.Dropout(0.2), # Set higher if over fitting\n",
        "  tf.keras.layers.Dense(classNum, activation='softmax')\n",
        "])"
      ]
    },
    {
      "cell_type": "markdown",
      "metadata": {
        "id": "EG1cjRfkgp3Y"
      },
      "source": [
        "## Set model checkpoint for saving best round weights\n",
        "##### (Optional setting)"
      ]
    },
    {
      "cell_type": "code",
      "execution_count": 20,
      "metadata": {
        "id": "qFSiEHuLR0N7"
      },
      "outputs": [],
      "source": [
        "# save model callback\n",
        "checkpoint_filepath = './tmp/checkpoint'\n",
        "model_checkpoint_callback = tf.keras.callbacks.ModelCheckpoint(\n",
        "  filepath=checkpoint_filepath,\n",
        "  save_weights_only=True,\n",
        "  monitor='val_accuracy',\n",
        "  mode='max',\n",
        "  save_best_only=True\n",
        ")"
      ]
    },
    {
      "cell_type": "markdown",
      "metadata": {
        "id": "Z90yDOtBgsa2"
      },
      "source": [
        "## Set learnDecay for better late round accuracy\n",
        "##### (Optional setting)"
      ]
    },
    {
      "cell_type": "code",
      "execution_count": 21,
      "metadata": {
        "id": "OrTqAg9TR2Wo"
      },
      "outputs": [],
      "source": [
        "# set lr decay callback\n",
        "def learnDecay(epoch, lr):\n",
        "    if epoch < (epochsRound / 2):\n",
        "        return lr\n",
        "    else:\n",
        "        return lr * tf.math.exp(-0.1)\n",
        "\n",
        "learnDecayCallback = tf.keras.callbacks.LearningRateScheduler(learnDecay)"
      ]
    },
    {
      "cell_type": "markdown",
      "metadata": {
        "id": "-pIE0hWvgvLM"
      },
      "source": [
        "## Set model optimizer, loss"
      ]
    },
    {
      "cell_type": "code",
      "execution_count": 22,
      "metadata": {
        "id": "4npM6bAiR43x"
      },
      "outputs": [],
      "source": [
        "model.compile(optimizer=tf.keras.optimizers.Adam(learning_rate=base_learning_rate),\n",
        "        loss=tf.keras.losses.SparseCategoricalCrossentropy(from_logits=False),\n",
        "        metrics=['accuracy']\n",
        ")"
      ]
    },
    {
      "cell_type": "markdown",
      "metadata": {
        "id": "lVnUSiyglGR4"
      },
      "source": [
        "## Training and Callback the best round result for saving model"
      ]
    },
    {
      "cell_type": "code",
      "execution_count": 23,
      "metadata": {
        "colab": {
          "base_uri": "https://localhost:8080/"
        },
        "id": "eHU38a5IR3_v",
        "outputId": "02a2ae49-fdb5-415d-aba1-5e054293b53e"
      },
      "outputs": [
        {
          "name": "stdout",
          "output_type": "stream",
          "text": [
            "Epoch 1/3\n",
            "66/66 [==============================] - 27s 242ms/step - loss: 1.4988 - accuracy: 0.6216 - val_loss: 0.7915 - val_accuracy: 0.9002 - lr: 1.0000e-04\n",
            "Epoch 2/3\n",
            "66/66 [==============================] - 14s 212ms/step - loss: 0.3534 - accuracy: 0.9653 - val_loss: 0.2816 - val_accuracy: 0.9512 - lr: 1.0000e-04\n",
            "Epoch 3/3\n",
            "66/66 [==============================] - 14s 214ms/step - loss: 0.0940 - accuracy: 0.9929 - val_loss: 0.1604 - val_accuracy: 0.9557 - lr: 9.0484e-05\n",
            "15/15 - 1s - loss: 0.1604 - accuracy: 0.9557 - 1s/epoch - 82ms/step\n",
            "0.9556540846824646\n"
          ]
        }
      ],
      "source": [
        "# Training\n",
        "history = model.fit(\n",
        "  train_ds, \n",
        "  epochs=epochsRound,\n",
        "  validation_data=valid_ds, \n",
        "  callbacks=[model_checkpoint_callback, learnDecayCallback]\n",
        ")\n",
        "\n",
        "# Loading the best training round to fit into the models \n",
        "model.load_weights(checkpoint_filepath)\n",
        "test_loss, test_acc = model.evaluate(valid_ds, verbose=2)\n",
        "print(test_acc)\n",
        "\n",
        "# Save your models\n",
        "model.save(\"myTrainingModel.h5\")"
      ]
    },
    {
      "cell_type": "markdown",
      "metadata": {
        "id": "hUrGEz5HlKym"
      },
      "source": [
        "## Plot result"
      ]
    },
    {
      "cell_type": "code",
      "execution_count": 24,
      "metadata": {
        "colab": {
          "base_uri": "https://localhost:8080/",
          "height": 499
        },
        "id": "GYZHoYrfR96s",
        "outputId": "d9c40a03-9472-42ea-b11f-4c5488f6c071"
      },
      "outputs": [
        {
          "data": {
            "image/png": "[encoded data removed]",
            "text/plain": [
              "<Figure size 576x576 with 2 Axes>"
            ]
          },
          "metadata": {
            "needs_background": "light"
          },
          "output_type": "display_data"
        }
      ],
      "source": [
        "acc = history.history['accuracy']\n",
        "val_acc = history.history['val_accuracy']\n",
        "loss = history.history['loss']\n",
        "val_loss = history.history['val_loss']\n",
        "\n",
        "epochs_range = range(epochsRound)\n",
        "\n",
        "plt.figure(figsize=(8, 8))\n",
        "plt.subplot(1, 2, 1)\n",
        "plt.plot(epochs_range, acc, label='Training Accuracy')\n",
        "plt.plot(epochs_range, val_acc, label='Validation Accuracy')\n",
        "plt.legend(loc='lower right')\n",
        "plt.title('Training and Validation Accuracy')\n",
        "\n",
        "plt.subplot(1, 2, 2)\n",
        "plt.plot(epochs_range, loss, label='Training Loss')\n",
        "plt.plot(epochs_range, val_loss, label='Validation Loss')\n",
        "plt.legend(loc='upper right')\n",
        "plt.title('Training and Validation Loss')\n",
        "plt.show()"
      ]
    },
    {
      "cell_type": "markdown",
      "metadata": {
        "id": "suZUaUxTrqOv"
      },
      "source": [
        "#### Q&A\n",
        "\n",
        "Q. My model validation accuracy is low, what should I do?  \n",
        "A. Depends on the situations, several things that you may do to achieve higher accuracy.\n",
        "\n",
        "First attempt:  \n",
        "1. Adjust learning rate. \n",
        "2. Adjust Higher Droupout rate if over fitting occur.\n",
        "3. Adjust your dataset (Remove bad images, unrelated data, add more data...).\n",
        "4. Change the learnDecay method.  \n",
        "5. Play more epochs.  \n",
        "\n",
        "Late attempt: \n",
        "1. Try other data augmentation combinations.\n",
        "2. Change other CNN model.\n",
        "3. Adjust layer (add/remove) in tf.keras.Sequential.\n",
        "5. Try another optimizer.\n",
        "4. and more you can think of...  \n",
        "\n",
        "Advance:\n",
        "1. Apply stacking models (combinded model)\n",
        "2. Try other better augmentations (CitMix / RandAug...)\n",
        "3. Attempt attention models (https://github.com/leondgarse/keras_cv_attention_models).\n",
        "4. See https://paperswithcode.com/sota/image-classification-on-imagenet for latest Image Classification technique."
      ]
    }
  ],
  "metadata": {
    "accelerator": "GPU",
    "colab": {
      "collapsed_sections": [],
      "name": "Setp2_Training_Models.ipynb",
      "provenance": []
    },
    "kernelspec": {
      "display_name": "Python 3",
      "name": "python3"
    },
    "language_info": {
      "name": "python"
    }
  },
  "nbformat": 4,
  "nbformat_minor": 0
}
